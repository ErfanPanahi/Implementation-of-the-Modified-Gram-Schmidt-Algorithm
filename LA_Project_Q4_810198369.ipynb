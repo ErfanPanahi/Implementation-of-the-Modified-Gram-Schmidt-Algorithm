{
  "nbformat": 4,
  "nbformat_minor": 0,
  "metadata": {
    "colab": {
      "provenance": []
    },
    "kernelspec": {
      "name": "python3",
      "display_name": "Python 3"
    },
    "language_info": {
      "name": "python"
    }
  },
  "cells": [
    {
      "cell_type": "code",
      "execution_count": 19,
      "metadata": {
        "cellView": "form",
        "id": "poIl1Kv1V8Nn"
      },
      "outputs": [],
      "source": [
        "#@title Importing Packages\n",
        "import numpy as np\n",
        "import matplotlib.pyplot as plt"
      ]
    },
    {
      "cell_type": "code",
      "source": [
        "#@title Functions\n",
        "def GramSchmidt(A):\n",
        "  r, c = A.shape\n",
        "  Q = np.zeros([r, c])\n",
        "  for i in range(c):\n",
        "    Q[:,i] = A[:,i] - np.sum((A[:,i].T @ Q[:,:i]) * Q[:,:i], axis = 1)\n",
        "    Q[:,i] /= np.linalg.norm(Q[:,i]) \n",
        "  R = Q.T @ A\n",
        "  return Q, R\n",
        "\n",
        "def ModifiedGramSchmidt(A):\n",
        "  r, c = A.shape\n",
        "  V = np.matrix(A.copy())\n",
        "  Q = np.matrix(np.zeros([r,c]))\n",
        "  R = np.matrix(np.zeros([c,c]))\n",
        "  for j in range(c):\n",
        "    Q[:,j] = V[:,j] / np.linalg.norm(V[:,j]) \n",
        "    R[j,j:] = Q[:,j].T @ V[:,j:]  \n",
        "    V[:,j:] -= ((V[:,j:].T @ Q[:,j]) @ Q[:,j].T).T   \n",
        "  return Q, R"
      ],
      "metadata": {
        "cellView": "form",
        "id": "ABqGvP5aPmkJ"
      },
      "execution_count": 54,
      "outputs": []
    },
    {
      "cell_type": "code",
      "source": [
        "#@title A test matrix\n",
        "A = np.array([[1.0,2.0,3.0,4.0,5.0],[1.0,5.0,6.0,61.0,9.0],[7.0,8.0,17.0,22.0,-7.0],[16.0,17.0,19.0,25.0,2.0],[1.0,9.0,0.8,7.6,3.0]])\n",
        "Q1 = GramSchmidt(A)\n",
        "R1 = Q1.T @ A\n",
        "er1 = np.linalg.norm(A - Q1 @ R1) / np.linalg.norm(A)\n",
        "Q2 = ModifiedGramSchmidt(A)\n",
        "R2 = Q2.T @ A\n",
        "er2 = np.linalg.norm(A - Q2 @ R2) / np.linalg.norm(A)\n",
        "print(f'Gram Schmidt Error: {er1}\\nModified Gram Schmidt Error: {er2}')"
      ],
      "metadata": {
        "id": "1lPP1XGB8cVl",
        "colab": {
          "base_uri": "https://localhost:8080/"
        },
        "outputId": "e27f1569-e521-424c-ed55-1a3399ec93d4",
        "cellView": "form"
      },
      "execution_count": null,
      "outputs": [
        {
          "output_type": "stream",
          "name": "stdout",
          "text": [
            "Gram Schmidt Error: 4.712294070332071e-16\n",
            "Modified Gram Schmidt Error: 1.5203284867941944e-16\n"
          ]
        }
      ]
    },
    {
      "cell_type": "code",
      "source": [
        "#@title Comparing two methods of QR factorization\n",
        "n = 100\n",
        "U, X = np.linalg.qr(np.random.randn(n,n))\n",
        "# set U to a random orthogonal matrix\n",
        "V, X = np.linalg.qr(np.random.randn(n,n))\n",
        "# set V to a random orthogonal matrix\n",
        "S = np.diag(np.power(2,np.arange(-1,-(n+1),-1), dtype=float))\n",
        "# Set S to a diagonal matrix values between 2−1 and 2−(n+1)\n",
        "A = np.matmul(U,np.matmul(S,V))\n",
        "\n",
        "Q1, R1 = GramSchmidt(A)\n",
        "Q2, R2 = ModifiedGramSchmidt(A)\n",
        "\n",
        "plt.semilogy(np.diag(np.abs(S)), basey = 2, label = 'Singular Values')\n",
        "plt.semilogy(np.diag(np.abs(R1)), 'go', basey = 2, label = 'Gram-Schmidt')\n",
        "plt.semilogy(np.diag(np.abs(R2)), 'ro', basey = 2,label = 'Modified Gram-Schmidt')\n",
        "plt.xlabel('index')\n",
        "plt.ylabel('value')\n",
        "plt.title(' Comparing two methods of QR factorization')\n",
        "plt.legend()\n",
        "plt.show()"
      ],
      "metadata": {
        "colab": {
          "base_uri": "https://localhost:8080/",
          "height": 295
        },
        "cellView": "form",
        "id": "Pr-zIuOTzFXD",
        "outputId": "cfc32d12-5364-4746-9873-189885c20314"
      },
      "execution_count": 55,
      "outputs": [
        {
          "output_type": "display_data",
          "data": {
            "text/plain": [
              "<Figure size 432x288 with 1 Axes>"
            ],
            "image/png": "[encoded data removed]"
          },
          "metadata": {
            "needs_background": "light"
          }
        }
      ]
    }
  ]
}